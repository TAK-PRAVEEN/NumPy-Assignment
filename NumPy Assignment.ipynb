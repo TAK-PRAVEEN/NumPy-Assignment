{
 "cells": [
  {
   "cell_type": "raw",
   "id": "be1ddd51-882f-4908-be31-c1b713088b0c",
   "metadata": {},
   "source": [
    "Que.1 What is a Python library? Why do we use Python libraries?"
   ]
  },
  {
   "cell_type": "markdown",
   "id": "57f4a389-79f4-48d0-bb68-7fa9306a9dda",
   "metadata": {},
   "source": [
    "A python library is a collection of related modules that contain precompiled code for specific well-defined operations. These libraries simplify programming by providing reusable code, so developers don’t have to write the same functionality repeatedly across different programs.\n",
    "Here are some key points about python libraries:\n",
    "- Code Reusability\n",
    "- Convenience\n",
    "- Specialized functionality\n",
    "- Python standard library"
   ]
  },
  {
   "cell_type": "raw",
   "id": "378bbc19-a960-4ea3-856d-e9daa943938a",
   "metadata": {},
   "source": [
    "Que.2 What is the difference between Numpy array and List?"
   ]
  },
  {
   "cell_type": "markdown",
   "id": "55ddcc83-e6f6-4656-9026-4785e733f383",
   "metadata": {},
   "source": [
    "1. Homogeneity:\n",
    " - NumPy Array: Contains elements of the same data type. It ensures that all data inside the array is consistent.\n",
    " - Python List: Can hold different data types (heterogeneous). Elements need not to be of same type.\n",
    "2. Memory Representation:\n",
    " - NumPy Array: Store elements contiguously in memory. Rows of a 2D array have the same number of columns, and a 3D array has consistent rows and columns on each `card`.\n",
    " - Python List: Elements are not necessarily contiguous in memory.\n",
    "3. Element-wise Operations:\n",
    " - NumPy Array: Supports element-wise operations (e.g., addition, multiplication) efficiently.\n",
    " - Python List: Element-wise operations are not directly possible.\n",
    "4. Overhead:\n",
    " - NumPy Array: Minimal overhead; stores only the data.\n",
    " - Python List: Stores additional information (type, reference count) for each element, which can be significantly for large lists.\n",
    "5. Performance:\n",
    " - NumPy Array: Optimize for numerical computations. Faster due to efficient memory layout and vectorized operations.\n",
    " - Python List: Slower for numerical tasks due to Python’s interpretation overhead.\n"
   ]
  },
  {
   "cell_type": "raw",
   "id": "7784af58-41f3-49b7-913d-50b535a42fdd",
   "metadata": {},
   "source": [
    "Que.3 Find the shape, size and dimension of the following array?\n",
    "[[1, 2, 3, 4]\n",
    "[5, 6, 7, 8],\n",
    "[9, 10, 11, 12]]"
   ]
  },
  {
   "cell_type": "code",
   "execution_count": 1,
   "id": "3edc6bb4-2e38-4719-9e5a-defec19ab7cf",
   "metadata": {},
   "outputs": [
    {
     "data": {
      "text/plain": [
       "((3, 4), 12, 2)"
      ]
     },
     "execution_count": 1,
     "metadata": {},
     "output_type": "execute_result"
    }
   ],
   "source": [
    "import numpy as np\n",
    "arr = np.array([[1,2,3,4],\n",
    "                [5,6,7,8],\n",
    "                [9,10,11,12]])\n",
    "arr.shape, arr.size, arr.ndim"
   ]
  },
  {
   "cell_type": "raw",
   "id": "1cd1a899-e661-4295-9f8d-3fb3316c34cd",
   "metadata": {},
   "source": [
    "Que.4 Write python code to access the first row of the following array?\n",
    "[[1, 2, 3, 4]\n",
    "[5, 6, 7, 8],\n",
    "[9, 10, 11, 12]]"
   ]
  },
  {
   "cell_type": "code",
   "execution_count": 2,
   "id": "8a869551-2ace-416b-98cf-16c58625dc1b",
   "metadata": {},
   "outputs": [
    {
     "data": {
      "text/plain": [
       "array([1, 2, 3, 4])"
      ]
     },
     "execution_count": 2,
     "metadata": {},
     "output_type": "execute_result"
    }
   ],
   "source": [
    "import numpy as np\n",
    "arr = np.array([[1,2,3,4],\n",
    "                [5,6,7,8],\n",
    "                [9,10,11,12]])\n",
    "arr[0]"
   ]
  },
  {
   "cell_type": "raw",
   "id": "a62f2b41-9df0-48e7-bb6c-ec6505f6f47a",
   "metadata": {},
   "source": [
    "Que.5 How do you access the element at the third row and fourth column from the given numpy array?\n",
    "[[1, 2, 3, 4]\n",
    "[5, 6, 7, 8],\n",
    "[9, 10, 11, 12]]"
   ]
  },
  {
   "cell_type": "code",
   "execution_count": 3,
   "id": "a071d671-0576-4cba-bb46-da124bae3c51",
   "metadata": {},
   "outputs": [
    {
     "data": {
      "text/plain": [
       "12"
      ]
     },
     "execution_count": 3,
     "metadata": {},
     "output_type": "execute_result"
    }
   ],
   "source": [
    "import numpy as np\n",
    "arr = np.array([[1,2,3,4],\n",
    "                [5,6,7,8],\n",
    "                [9,10,11,12]])\n",
    "arr[2][3]"
   ]
  },
  {
   "cell_type": "raw",
   "id": "eaed3f9a-6681-4d40-bc85-00de3436e889",
   "metadata": {},
   "source": [
    "Que.6 Write code to extract all odd-indexed elements from the given numpy array?\n",
    "[[1, 2, 3, 4]\n",
    "[5, 6, 7, 8],\n",
    "[9, 10, 11, 12]]"
   ]
  },
  {
   "cell_type": "code",
   "execution_count": 4,
   "id": "563e349e-d7d6-46c2-a714-9cd86452b685",
   "metadata": {},
   "outputs": [
    {
     "name": "stdout",
     "output_type": "stream",
     "text": [
      "2 4 6 8 10 12 "
     ]
    }
   ],
   "source": [
    "import numpy as np\n",
    "arr = np.array([[1,2,3,4],\n",
    "                [5,6,7,8],\n",
    "                [9,10,11,12]])\n",
    "for i in range(arr.shape[0]):\n",
    "    for j in range(arr.shape[1]):\n",
    "        if j % 2 != 0:\n",
    "            print(arr[i][j], end=' ')"
   ]
  },
  {
   "cell_type": "raw",
   "id": "41bcf735-4c2d-4ed4-b6e5-f746f90c2357",
   "metadata": {},
   "source": [
    "Que.7 How can you generate a random 3x3 matrix with values between 0 and 1?"
   ]
  },
  {
   "cell_type": "code",
   "execution_count": 7,
   "id": "101aeca1-c8c5-44ca-b415-50273527fa4a",
   "metadata": {},
   "outputs": [
    {
     "data": {
      "text/plain": [
       "array([[0.69791295, 0.94182608, 0.15390014],\n",
       "       [0.0784378 , 0.27328946, 0.51467008],\n",
       "       [0.32725953, 0.37329035, 0.5341847 ]])"
      ]
     },
     "execution_count": 7,
     "metadata": {},
     "output_type": "execute_result"
    }
   ],
   "source": [
    "import numpy as np\n",
    "arr = np.random.rand(3,3)\n",
    "arr"
   ]
  },
  {
   "cell_type": "raw",
   "id": "7bc2e0ee-fbde-41e6-93d0-97c8ed389917",
   "metadata": {},
   "source": [
    "Que.8 Describe the difference between np.random.rand and np.random.randn?"
   ]
  },
  {
   "cell_type": "code",
   "execution_count": 8,
   "id": "a157760b-7645-4437-98da-e4833372266d",
   "metadata": {},
   "outputs": [
    {
     "name": "stdout",
     "output_type": "stream",
     "text": [
      "arr1 : [[0.30185478 0.0598859  0.44808387]\n",
      " [0.58004062 0.09172099 0.4169326 ]]\n",
      "\n",
      "arr2 : [ 1.29285362 -0.00976399]\n"
     ]
    }
   ],
   "source": [
    "import numpy as np\n",
    "arr1 = np.random.rand(2,3) #np.random.rand gives random values between the range of 0 and 1\n",
    "print(f\"arr1 : {arr1}\")\n",
    "print()\n",
    "arr2 = np.random.randn(2) #np.random.randn gives random values whose standard deviation is near to zero\n",
    "print(f\"arr2 : {arr2}\")"
   ]
  },
  {
   "cell_type": "raw",
   "id": "467c23ae-62a1-4565-acbc-f8c133bed01b",
   "metadata": {},
   "source": [
    "Que.9 Write code to increase the dimension of the following array?\n",
    "[[1, 2, 3, 4]\n",
    "[5, 6, 7, 8],\n",
    "[9, 10, 11, 12]]"
   ]
  },
  {
   "cell_type": "code",
   "execution_count": 10,
   "id": "5e002c39-6363-4c5d-8136-096fe28d7798",
   "metadata": {},
   "outputs": [
    {
     "data": {
      "text/plain": [
       "2"
      ]
     },
     "execution_count": 10,
     "metadata": {},
     "output_type": "execute_result"
    }
   ],
   "source": [
    "import numpy as np\n",
    "arr = np.array([[1,2,3,4],\n",
    "                [5,6,7,8],\n",
    "                [9,10,11,12]])\n",
    "arr.reshape((2,3,2))\n",
    "arr.ndim"
   ]
  },
  {
   "cell_type": "raw",
   "id": "7825c260-afb9-4d22-ade4-3909e68cac47",
   "metadata": {},
   "source": [
    "Que.10 How to transpose the following array in NumPy?\n",
    "[[1, 2, 3, 4]\n",
    "[5, 6, 7, 8],\n",
    "[9, 10, 11, 12]]"
   ]
  },
  {
   "cell_type": "code",
   "execution_count": 1,
   "id": "36db0538-5473-4f0b-88b3-7f7890ad5379",
   "metadata": {},
   "outputs": [
    {
     "data": {
      "text/plain": [
       "array([[ 1,  5,  9],\n",
       "       [ 2,  6, 10],\n",
       "       [ 3,  7, 11],\n",
       "       [ 4,  8, 12]])"
      ]
     },
     "execution_count": 1,
     "metadata": {},
     "output_type": "execute_result"
    }
   ],
   "source": [
    "import numpy as np\n",
    "arr = np.array([[1,2,3,4],\n",
    "                [5,6,7,8],\n",
    "                [9,10,11,12]])\n",
    "arr.T"
   ]
  },
  {
   "cell_type": "raw",
   "id": "9ac17b74-e512-4e60-822e-3cef8972140c",
   "metadata": {},
   "source": [
    "Que.11 Consider the following matrix:\n",
    "Matrix A2 [[1, 2, 3, 4] [5, 6, 7, 8],[9, 10, 11, 12]]\n",
    "Matrix B2 [[1, 2, 3, 4] [5, 6, 7, 8],[9, 10, 11, 12]]"
   ]
  },
  {
   "cell_type": "code",
   "execution_count": 12,
   "id": "a01e0a86-20f8-4493-97de-6c5894bddc64",
   "metadata": {},
   "outputs": [],
   "source": [
    "import numpy as np\n",
    "matrixA = np.array([[1,2,3,4],\n",
    "                [5,6,7,8],\n",
    "                [9,10,11,12]])\n",
    "matrixB = np.array([[1,2,3,4],\n",
    "                [5,6,7,8],\n",
    "                [9,10,11,12]])"
   ]
  },
  {
   "cell_type": "raw",
   "id": "d5308c09-04fb-4957-9e5e-d3f7aecd4160",
   "metadata": {},
   "source": [
    "Perform the following operation using Python:\n",
    "1. Index wise multiplication."
   ]
  },
  {
   "cell_type": "code",
   "execution_count": 3,
   "id": "c95c5e9b-987e-4e20-8fc4-ca7e89073f77",
   "metadata": {},
   "outputs": [
    {
     "data": {
      "text/plain": [
       "array([[  1,   4,   9,  16],\n",
       "       [ 25,  36,  49,  64],\n",
       "       [ 81, 100, 121, 144]])"
      ]
     },
     "execution_count": 3,
     "metadata": {},
     "output_type": "execute_result"
    }
   ],
   "source": [
    "matrixA * matrixB"
   ]
  },
  {
   "cell_type": "raw",
   "id": "5192f0e9-904c-4f57-b789-cb72891daba6",
   "metadata": {},
   "source": [
    "2. Matrix multiplication"
   ]
  },
  {
   "cell_type": "code",
   "execution_count": 4,
   "id": "bac26693-c5be-4b53-87f3-a96a91115259",
   "metadata": {},
   "outputs": [
    {
     "data": {
      "text/plain": [
       "array([[  1,   4,   9,  16],\n",
       "       [ 25,  36,  49,  64],\n",
       "       [ 81, 100, 121, 144]])"
      ]
     },
     "execution_count": 4,
     "metadata": {},
     "output_type": "execute_result"
    }
   ],
   "source": [
    "np.multiply(matrixA, matrixB) "
   ]
  },
  {
   "cell_type": "raw",
   "id": "a577c52c-9585-4d20-b82e-516b1fb8ec0b",
   "metadata": {},
   "source": [
    "3. Add both the matics"
   ]
  },
  {
   "cell_type": "code",
   "execution_count": 5,
   "id": "2785dfad-af84-4b47-aa9e-a18eecf3263d",
   "metadata": {},
   "outputs": [
    {
     "data": {
      "text/plain": [
       "array([[ 2,  4,  6,  8],\n",
       "       [10, 12, 14, 16],\n",
       "       [18, 20, 22, 24]])"
      ]
     },
     "execution_count": 5,
     "metadata": {},
     "output_type": "execute_result"
    }
   ],
   "source": [
    "np.add(matrixA, matrixB)"
   ]
  },
  {
   "cell_type": "raw",
   "id": "fe995325-5236-4ea4-ad5d-e144d7925715",
   "metadata": {},
   "source": [
    "4. Subtact matix B from A"
   ]
  },
  {
   "cell_type": "code",
   "execution_count": 6,
   "id": "58583db2-09b6-49ad-af52-3a00386bc0a3",
   "metadata": {},
   "outputs": [
    {
     "data": {
      "text/plain": [
       "array([[0, 0, 0, 0],\n",
       "       [0, 0, 0, 0],\n",
       "       [0, 0, 0, 0]])"
      ]
     },
     "execution_count": 6,
     "metadata": {},
     "output_type": "execute_result"
    }
   ],
   "source": [
    "np.subtract(matrixB, matrixA)"
   ]
  },
  {
   "cell_type": "raw",
   "id": "000afe79-35b4-4d13-86a4-d4b2ab44172c",
   "metadata": {},
   "source": [
    "5. Divide Matix B by A"
   ]
  },
  {
   "cell_type": "code",
   "execution_count": 7,
   "id": "77f0b553-82eb-4985-be8d-f6d56b71129b",
   "metadata": {},
   "outputs": [
    {
     "data": {
      "text/plain": [
       "array([[1., 1., 1., 1.],\n",
       "       [1., 1., 1., 1.],\n",
       "       [1., 1., 1., 1.]])"
      ]
     },
     "execution_count": 7,
     "metadata": {},
     "output_type": "execute_result"
    }
   ],
   "source": [
    "np.divide(matrixB, matrixA)"
   ]
  },
  {
   "cell_type": "raw",
   "id": "6e42bb9e-3141-471c-81c8-7bfa10266393",
   "metadata": {},
   "source": [
    "Que.12 Which function in Numpy can be used to swap the byte order of an array?"
   ]
  },
  {
   "cell_type": "code",
   "execution_count": 10,
   "id": "6ea6e0cd-fe0c-48b8-8ef9-0439cb9ec5a4",
   "metadata": {},
   "outputs": [
    {
     "data": {
      "text/plain": [
       "array([[ 72057594037927936, 144115188075855872, 216172782113783808,\n",
       "        288230376151711744],\n",
       "       [360287970189639680, 432345564227567616, 504403158265495552,\n",
       "        576460752303423488],\n",
       "       [648518346341351424, 720575940379279360, 792633534417207296,\n",
       "        864691128455135232]])"
      ]
     },
     "execution_count": 10,
     "metadata": {},
     "output_type": "execute_result"
    }
   ],
   "source": [
    "import numpy as np\n",
    "arr = np.array([[1,2,3,4],\n",
    "                [5,6,7,8],\n",
    "                [9,10,11,12]])\n",
    "arr.byteswap()"
   ]
  },
  {
   "cell_type": "raw",
   "id": "9c1e4ce0-2925-46da-92f8-290dd0c8312d",
   "metadata": {},
   "source": [
    "Que.13 What is the significance of the np.linalg.inv function?"
   ]
  },
  {
   "cell_type": "markdown",
   "id": "b1e56fb4-01bb-4597-8de4-8e39e2fe691a",
   "metadata": {},
   "source": [
    "Compute the inverse of a matrix."
   ]
  },
  {
   "cell_type": "code",
   "execution_count": 13,
   "id": "f1b616a5-c0b9-4e82-9328-8d8df9128d56",
   "metadata": {},
   "outputs": [
    {
     "data": {
      "text/plain": [
       "array([[-2. ,  1. ],\n",
       "       [ 1.5, -0.5]])"
      ]
     },
     "execution_count": 13,
     "metadata": {},
     "output_type": "execute_result"
    }
   ],
   "source": [
    "import numpy as np\n",
    "arr = [[1,2],[3,4]]\n",
    "np.linalg.inv(arr)"
   ]
  },
  {
   "cell_type": "raw",
   "id": "c13e6090-db7c-4ad7-b55c-7a313a7af3d3",
   "metadata": {},
   "source": [
    "Que.14 What does the np.reshape function do, ad^ how is it used?"
   ]
  },
  {
   "cell_type": "markdown",
   "id": "96d3fbee-250d-4da7-af23-ab78500e726f",
   "metadata": {},
   "source": [
    "It changes the shape of an array but number of elements remains the same."
   ]
  },
  {
   "cell_type": "code",
   "execution_count": 14,
   "id": "48e17d93-87fe-476b-8822-2221bd2c1368",
   "metadata": {},
   "outputs": [
    {
     "name": "stdout",
     "output_type": "stream",
     "text": [
      "Shape of array : (3, 4)\n",
      "[[ 1  2  3  4]\n",
      " [ 5  6  7  8]\n",
      " [ 9 10 11 12]]\n",
      "Shape of reshaped array : (2, 6)\n",
      "[[ 1  2  3  4  5  6]\n",
      " [ 7  8  9 10 11 12]]\n"
     ]
    }
   ],
   "source": [
    "import numpy as np\n",
    "arr = np.array([[1,2,3,4],\n",
    "                [5,6,7,8],\n",
    "                [9,10,11,12]])\n",
    "print(f\"Shape of array : {arr.shape}\")\n",
    "print(arr)\n",
    "arr_reshaped = arr.reshape(2,6)\n",
    "print(f\"Shape of reshaped array : {arr_reshaped.shape}\")\n",
    "print(arr_reshaped)"
   ]
  },
  {
   "cell_type": "raw",
   "id": "c970571a-af70-4d5d-958e-542294376b3f",
   "metadata": {},
   "source": [
    "Que.15 What is broadcasting in Numpy?"
   ]
  },
  {
   "cell_type": "markdown",
   "id": "e5521964-c22f-4896-836c-da78883c52ef",
   "metadata": {},
   "source": [
    "1. Concept:\n",
    "- Broadcasting allows smaller arrays to be “stretched” or “broadcast” across larger arrays to make their shapes compatible.\n",
    "- It enables vectorized array operations, avoiding unnecessary data copies and improving efficiently.\n",
    "2. Scalar Broadcasting:\n",
    "- When combining an array with a scalar value, the scalar is virtually stretched to match the array’s shape.\n",
    "3. General Broadcasting Rules:\n",
    "- NumPy compares array shapes element-wise, starting from the trailing dimensions.\n",
    "- Two dimensions are compatible if they are equal or one of them is 1.\n",
    "- Missing dimensions are assumed to have size one."
   ]
  },
  {
   "cell_type": "code",
   "execution_count": null,
   "id": "f5bbdf4c-e55b-49b4-ba12-053ac67581e6",
   "metadata": {},
   "outputs": [],
   "source": []
  }
 ],
 "metadata": {
  "kernelspec": {
   "display_name": "Python 3 (ipykernel)",
   "language": "python",
   "name": "python3"
  },
  "language_info": {
   "codemirror_mode": {
    "name": "ipython",
    "version": 3
   },
   "file_extension": ".py",
   "mimetype": "text/x-python",
   "name": "python",
   "nbconvert_exporter": "python",
   "pygments_lexer": "ipython3",
   "version": "3.10.8"
  }
 },
 "nbformat": 4,
 "nbformat_minor": 5
}
